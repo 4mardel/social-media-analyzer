{
 "cells": [
  {
   "cell_type": "code",
   "execution_count": 2,
   "id": "823840f9",
   "metadata": {},
   "outputs": [],
   "source": [
    "import os\n",
    "import json\n",
    "import pandas as pd\n",
    "import re\n",
    "import string\n",
    "import nltk\n",
    "from tqdm import tqdm\n",
    "from PIL import Image"
   ]
  },
  {
   "cell_type": "code",
   "execution_count": 3,
   "id": "bc2e1c73",
   "metadata": {},
   "outputs": [
    {
     "name": "stderr",
     "output_type": "stream",
     "text": [
      "[nltk_data] Downloading package stopwords to\n",
      "[nltk_data]     C:\\Users\\ASUS\\AppData\\Roaming\\nltk_data...\n",
      "[nltk_data]   Package stopwords is already up-to-date!\n"
     ]
    }
   ],
   "source": [
    "nltk.download('stopwords')\n",
    "from nltk.corpus import stopwords\n",
    "stop_words = set(stopwords.words('english'))"
   ]
  },
  {
   "cell_type": "code",
   "execution_count": 4,
   "id": "dc96a4cb",
   "metadata": {},
   "outputs": [],
   "source": [
    "json_dir = \"../data/raw/\"\n",
    "files = [f for f in os.listdir(json_dir) if f.endswith(\".json\")]"
   ]
  },
  {
   "cell_type": "code",
   "execution_count": 5,
   "id": "cb29002d",
   "metadata": {},
   "outputs": [],
   "source": [
    "data = []\n",
    "for file in files:\n",
    "    with open(os.path.join(json_dir, file), encoding='utf-8') as f:\n",
    "        posts = json.load(f)\n",
    "        data.extend(posts)"
   ]
  },
  {
   "cell_type": "code",
   "execution_count": 6,
   "id": "7d3e5872",
   "metadata": {},
   "outputs": [
    {
     "data": {
      "text/html": [
       "<div>\n",
       "<style scoped>\n",
       "    .dataframe tbody tr th:only-of-type {\n",
       "        vertical-align: middle;\n",
       "    }\n",
       "\n",
       "    .dataframe tbody tr th {\n",
       "        vertical-align: top;\n",
       "    }\n",
       "\n",
       "    .dataframe thead th {\n",
       "        text-align: right;\n",
       "    }\n",
       "</style>\n",
       "<table border=\"1\" class=\"dataframe\">\n",
       "  <thead>\n",
       "    <tr style=\"text-align: right;\">\n",
       "      <th></th>\n",
       "      <th>id</th>\n",
       "      <th>title</th>\n",
       "      <th>text</th>\n",
       "      <th>image_path</th>\n",
       "      <th>upvotes</th>\n",
       "      <th>created_utc</th>\n",
       "      <th>subreddit</th>\n",
       "      <th>url</th>\n",
       "    </tr>\n",
       "  </thead>\n",
       "  <tbody>\n",
       "    <tr>\n",
       "      <th>0</th>\n",
       "      <td>1l0n4qj</td>\n",
       "      <td>Strong glance in blue, Romain Eugene, Oils, 2025</td>\n",
       "      <td></td>\n",
       "      <td>images\\1l0n4qj.jpg</td>\n",
       "      <td>609</td>\n",
       "      <td>2025-06-01T11:54:01+00:00</td>\n",
       "      <td>Art</td>\n",
       "      <td>https://i.redd.it/r2f08uf81b4f1.jpeg</td>\n",
       "    </tr>\n",
       "    <tr>\n",
       "      <th>1</th>\n",
       "      <td>1l0og4f</td>\n",
       "      <td>Szarik, NuCatArt (my wife), acrylic painting o...</td>\n",
       "      <td></td>\n",
       "      <td>images\\1l0og4f.jpg</td>\n",
       "      <td>77</td>\n",
       "      <td>2025-06-01T13:02:44+00:00</td>\n",
       "      <td>Art</td>\n",
       "      <td>https://i.redd.it/qi5ut4mldb4f1.jpeg</td>\n",
       "    </tr>\n",
       "    <tr>\n",
       "      <th>2</th>\n",
       "      <td>1l0o7fo</td>\n",
       "      <td>Bondi Beach, Sally West, Oil on Canvas, 2024</td>\n",
       "      <td></td>\n",
       "      <td>images\\1l0o7fo.jpg</td>\n",
       "      <td>73</td>\n",
       "      <td>2025-06-01T12:50:58+00:00</td>\n",
       "      <td>Art</td>\n",
       "      <td>https://i.redd.it/hxta850ibb4f1.jpeg</td>\n",
       "    </tr>\n",
       "    <tr>\n",
       "      <th>3</th>\n",
       "      <td>1l0ol4v</td>\n",
       "      <td>Pri-demon-th 2025, babbittybabbitt, Copic, 2025</td>\n",
       "      <td></td>\n",
       "      <td>images\\1l0ol4v.jpg</td>\n",
       "      <td>67</td>\n",
       "      <td>2025-06-01T13:09:36+00:00</td>\n",
       "      <td>Art</td>\n",
       "      <td>https://i.redd.it/t3dmgyxteb4f1.png</td>\n",
       "    </tr>\n",
       "    <tr>\n",
       "      <th>4</th>\n",
       "      <td>1l0j3ca</td>\n",
       "      <td>Old Money Girl IV, Sculptylife, digital print,...</td>\n",
       "      <td></td>\n",
       "      <td>images\\1l0j3ca.jpg</td>\n",
       "      <td>149</td>\n",
       "      <td>2025-06-01T07:26:42+00:00</td>\n",
       "      <td>Art</td>\n",
       "      <td>https://i.redd.it/7ss3mx8np94f1.jpeg</td>\n",
       "    </tr>\n",
       "  </tbody>\n",
       "</table>\n",
       "</div>"
      ],
      "text/plain": [
       "        id                                              title text  \\\n",
       "0  1l0n4qj   Strong glance in blue, Romain Eugene, Oils, 2025        \n",
       "1  1l0og4f  Szarik, NuCatArt (my wife), acrylic painting o...        \n",
       "2  1l0o7fo       Bondi Beach, Sally West, Oil on Canvas, 2024        \n",
       "3  1l0ol4v    Pri-demon-th 2025, babbittybabbitt, Copic, 2025        \n",
       "4  1l0j3ca  Old Money Girl IV, Sculptylife, digital print,...        \n",
       "\n",
       "           image_path  upvotes                created_utc subreddit  \\\n",
       "0  images\\1l0n4qj.jpg      609  2025-06-01T11:54:01+00:00       Art   \n",
       "1  images\\1l0og4f.jpg       77  2025-06-01T13:02:44+00:00       Art   \n",
       "2  images\\1l0o7fo.jpg       73  2025-06-01T12:50:58+00:00       Art   \n",
       "3  images\\1l0ol4v.jpg       67  2025-06-01T13:09:36+00:00       Art   \n",
       "4  images\\1l0j3ca.jpg      149  2025-06-01T07:26:42+00:00       Art   \n",
       "\n",
       "                                    url  \n",
       "0  https://i.redd.it/r2f08uf81b4f1.jpeg  \n",
       "1  https://i.redd.it/qi5ut4mldb4f1.jpeg  \n",
       "2  https://i.redd.it/hxta850ibb4f1.jpeg  \n",
       "3   https://i.redd.it/t3dmgyxteb4f1.png  \n",
       "4  https://i.redd.it/7ss3mx8np94f1.jpeg  "
      ]
     },
     "execution_count": 6,
     "metadata": {},
     "output_type": "execute_result"
    }
   ],
   "source": [
    "df = pd.DataFrame(data)\n",
    "df.head()"
   ]
  },
  {
   "cell_type": "code",
   "execution_count": 7,
   "id": "33e9b2c8",
   "metadata": {},
   "outputs": [],
   "source": [
    "def clean_text(text):\n",
    "    if not text:\n",
    "        return \"\"\n",
    "    text = text.lower()\n",
    "    text = re.sub(r\"http\\S+\", \"\", text) \n",
    "    text = re.sub(r\"[^\\w\\s]\", \"\", text)\n",
    "    text = re.sub(r\"\\d+\", \"\", text)\n",
    "    text = \" \".join([word for word in text.split() if word not in stop_words])\n",
    "    return text.strip()\n",
    "\n",
    "df[\"full_text\"] = df[\"title\"].fillna(\"\") + \" \" + df[\"text\"].fillna(\"\")\n",
    "df[\"clean_text\"] = df[\"full_text\"].apply(clean_text)"
   ]
  },
  {
   "cell_type": "code",
   "execution_count": 8,
   "id": "b72f43a3",
   "metadata": {},
   "outputs": [],
   "source": [
    "df.drop_duplicates(subset=\"id\", inplace=True)\n",
    "\n",
    "df = df[df[\"clean_text\"].str.strip() != \"\"]\n",
    "df = df[df[\"image_path\"].notna()]"
   ]
  },
  {
   "cell_type": "code",
   "execution_count": 9,
   "id": "ee1b7be3",
   "metadata": {},
   "outputs": [],
   "source": [
    "def is_valid_image(path):\n",
    "    full_path = os.path.join(\"data/raw/\", path)\n",
    "    try:\n",
    "        img = Image.open(full_path)\n",
    "        img.verify()  # Проверка\n",
    "        return True\n",
    "    except:\n",
    "        return False\n",
    "\n",
    "df[\"valid_image\"] = df[\"image_path\"].apply(is_valid_image)\n",
    "df = df[df[\"valid_image\"] == True]\n"
   ]
  },
  {
   "cell_type": "code",
   "execution_count": 10,
   "id": "0118c350",
   "metadata": {},
   "outputs": [
    {
     "name": "stderr",
     "output_type": "stream",
     "text": [
      "0it [00:00, ?it/s]\n"
     ]
    }
   ],
   "source": [
    "for path in tqdm(df[\"image_path\"]):\n",
    "    full_path = os.path.join(\"data/raw/\", path)\n",
    "    try:\n",
    "        img = Image.open(full_path)\n",
    "        img = img.resize((640, 640))\n",
    "        img.save(full_path)\n",
    "    except:\n",
    "        continue"
   ]
  },
  {
   "cell_type": "code",
   "execution_count": 12,
   "id": "c342056e",
   "metadata": {},
   "outputs": [],
   "source": [
    "df.to_csv(\"../data/processed/clean_data.csv\", index=False)"
   ]
  },
  {
   "cell_type": "code",
   "execution_count": null,
   "id": "5b97c22e",
   "metadata": {},
   "outputs": [],
   "source": []
  }
 ],
 "metadata": {
  "kernelspec": {
   "display_name": "venv",
   "language": "python",
   "name": "python3"
  },
  "language_info": {
   "codemirror_mode": {
    "name": "ipython",
    "version": 3
   },
   "file_extension": ".py",
   "mimetype": "text/x-python",
   "name": "python",
   "nbconvert_exporter": "python",
   "pygments_lexer": "ipython3",
   "version": "3.13.0"
  }
 },
 "nbformat": 4,
 "nbformat_minor": 5
}
